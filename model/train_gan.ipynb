{
 "cells": [
  {
   "cell_type": "code",
   "execution_count": null,
   "id": "d815525f",
   "metadata": {},
   "outputs": [],
   "source": [
    "# Entrenamiento de un GAN para MNIST\n",
    "# Ejecutar en Google Colab\n",
    "\n",
    "import torch\n",
    "import torch.nn as nn\n",
    "import torch.optim as optim\n",
    "from torchvision import datasets, transforms\n",
    "from torch.utils.data import DataLoader\n",
    "from model.gan import Generator\n",
    "\n",
    "# Hiperparámetros\n",
    "z_dim = 100\n",
    "batch_size = 128\n",
    "epochs = 50\n",
    "\n",
    "# Dataset MNIST\n",
    "transform = transforms.Compose([\n",
    "    transforms.ToTensor(),\n",
    "    transforms.Normalize([0.5], [0.5])\n",
    "])\n",
    "dataset = datasets.MNIST(root='./data', train=True, download=True, transform=transform)\n",
    "dataloader = DataLoader(dataset, batch_size=batch_size, shuffle=True)\n",
    "\n",
    "# Instanciar modelo\n",
    "G = Generator(z_dim=z_dim)\n",
    "# ...definir Discriminador, loss y optimizadores...\n",
    "# ...entrenar el modelo...\n",
    "# torch.save(G.state_dict(), 'generator.pth')"
   ]
  }
 ],
 "metadata": {
  "language_info": {
   "name": "python"
  }
 },
 "nbformat": 4,
 "nbformat_minor": 5
}
